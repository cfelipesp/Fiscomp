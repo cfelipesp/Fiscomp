{
 "cells": [
  {
   "cell_type": "code",
   "execution_count": 2,
   "id": "4406cef6-c87c-4ae7-81ae-f18a38f33f1d",
   "metadata": {
    "tags": []
   },
   "outputs": [],
   "source": [
    "def RegressaoLinear(x, y):\n",
    "    # LinearRegration calculates the coefficients a1 and a0 of the linear\n",
    "    # equation y = a1*x + a0 that best fit n data points.\n",
    "    # Input variables:\n",
    "    # x    A vector with the coordinates x of the data points.\n",
    "    # y    A vector with the coordinates y of the data points.\n",
    "    # Output variable:\n",
    "    # a1   The coefficient a1.\n",
    "    # a0   The coefficient a0.\n",
    "\n",
    "    nx = len(x)\n",
    "    ny = len(y)\n",
    "    if nx != ny:\n",
    "        print('ERRO: O número de elementos em x precisa ser igual ao de y.')\n",
    "        a1 = mstring('Erro')\n",
    "        a0 = mstring('Erro')\n",
    "    else:\n",
    "        Sx = sum(x)\n",
    "        Sy = sum(y)\n",
    "        Sxy = sum(x*y)\n",
    "        Sxx = sum(x**2)\n",
    "        a1 = (nx*Sxy - Sx*Sy) / (nx*Sxx - Sx**2)\n",
    "        a0 = (Sxx*Sy - Sxy*Sx) / (nx*Sxx - Sx**2)\n",
    "    return a0,a1"
   ]
  }
 ],
 "metadata": {
  "kernelspec": {
   "display_name": "Python 3",
   "language": "python",
   "name": "python3"
  },
  "language_info": {
   "codemirror_mode": {
    "name": "ipython",
    "version": 3
   },
   "file_extension": ".py",
   "mimetype": "text/x-python",
   "name": "python",
   "nbconvert_exporter": "python",
   "pygments_lexer": "ipython3",
   "version": "3.8.10"
  }
 },
 "nbformat": 4,
 "nbformat_minor": 5
}
